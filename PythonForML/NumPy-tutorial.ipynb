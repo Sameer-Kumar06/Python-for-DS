{
 "cells": [
  {
   "cell_type": "code",
   "execution_count": 1,
   "id": "122d35e6-fc7c-4bb7-a4f4-528542384098",
   "metadata": {},
   "outputs": [],
   "source": [
    "import numpy as np"
   ]
  },
  {
   "cell_type": "code",
   "execution_count": 2,
   "id": "d3a1fb44-a91e-4701-bcf8-5bd91ffbf376",
   "metadata": {},
   "outputs": [
    {
     "data": {
      "text/plain": [
       "numpy.ndarray"
      ]
     },
     "execution_count": 2,
     "metadata": {},
     "output_type": "execute_result"
    }
   ],
   "source": [
    "my_lst = [1,2,3,4]\n",
    "arr = np.array(my_lst)\n",
    "\n",
    "type(arr)"
   ]
  },
  {
   "cell_type": "code",
   "execution_count": 4,
   "id": "dc29f08d-1a5c-4d73-b505-8d39b9a1801d",
   "metadata": {},
   "outputs": [
    {
     "name": "stdout",
     "output_type": "stream",
     "text": [
      "[1 2 3 4]\n"
     ]
    }
   ],
   "source": [
    "print(arr)"
   ]
  },
  {
   "cell_type": "code",
   "execution_count": 6,
   "id": "e2660c5c-4b90-4e4a-932b-cfd956679020",
   "metadata": {},
   "outputs": [
    {
     "data": {
      "text/plain": [
       "(4,)"
      ]
     },
     "execution_count": 6,
     "metadata": {},
     "output_type": "execute_result"
    }
   ],
   "source": [
    "arr.shape"
   ]
  },
  {
   "cell_type": "code",
   "execution_count": 7,
   "id": "5a4ec895-4e3b-4914-8b10-7f665f156faf",
   "metadata": {},
   "outputs": [
    {
     "data": {
      "text/plain": [
       "array([1, 2, 3, 4])"
      ]
     },
     "execution_count": 7,
     "metadata": {},
     "output_type": "execute_result"
    }
   ],
   "source": [
    "arr"
   ]
  },
  {
   "cell_type": "code",
   "execution_count": 9,
   "id": "a98cbda8-84fd-48e7-9f92-1511d0d14270",
   "metadata": {},
   "outputs": [],
   "source": [
    "my_lst1 = [1,2,3,4]\n",
    "my_lst2 = [5,6,7,8]\n",
    "my_lst3 = [9,10,11,12]\n",
    "\n",
    "arr1 = np.array([my_lst1, my_lst2, my_lst3])"
   ]
  },
  {
   "cell_type": "code",
   "execution_count": 10,
   "id": "f6532c39-b8df-4b8d-8972-632943feae1c",
   "metadata": {},
   "outputs": [
    {
     "data": {
      "text/plain": [
       "array([[ 1,  2,  3,  4],\n",
       "       [ 5,  6,  7,  8],\n",
       "       [ 9, 10, 11, 12]])"
      ]
     },
     "execution_count": 10,
     "metadata": {},
     "output_type": "execute_result"
    }
   ],
   "source": [
    "arr1"
   ]
  },
  {
   "cell_type": "code",
   "execution_count": 13,
   "id": "5db284ac-d428-42f1-81c7-bd1d55c1ccbc",
   "metadata": {},
   "outputs": [
    {
     "data": {
      "text/plain": [
       "(3, 4)"
      ]
     },
     "execution_count": 13,
     "metadata": {},
     "output_type": "execute_result"
    }
   ],
   "source": [
    "arr1.shape"
   ]
  },
  {
   "cell_type": "code",
   "execution_count": 14,
   "id": "b9fca034-1286-4343-b116-07ffe45aecaf",
   "metadata": {},
   "outputs": [
    {
     "name": "stdout",
     "output_type": "stream",
     "text": [
      "[[ 1  2  3  4]\n",
      " [ 5  6  7  8]\n",
      " [ 9 10 11 12]]\n"
     ]
    }
   ],
   "source": [
    "print(arr1)"
   ]
  },
  {
   "cell_type": "code",
   "execution_count": 20,
   "id": "8e85cccc-ff91-4acd-89e1-0ac6c3a390e3",
   "metadata": {},
   "outputs": [],
   "source": [
    "arr1 = arr1.reshape(4,3)"
   ]
  },
  {
   "cell_type": "code",
   "execution_count": 18,
   "id": "e70a6565-04ac-4ebd-b796-9d5118fd94aa",
   "metadata": {},
   "outputs": [
    {
     "data": {
      "text/plain": [
       "2"
      ]
     },
     "execution_count": 18,
     "metadata": {},
     "output_type": "execute_result"
    }
   ],
   "source": [
    "arr1.ndim"
   ]
  },
  {
   "cell_type": "code",
   "execution_count": 21,
   "id": "57eeacc3-1449-4b5f-910a-0b998e06ed1a",
   "metadata": {},
   "outputs": [
    {
     "name": "stdout",
     "output_type": "stream",
     "text": [
      "[[ 1  2  3]\n",
      " [ 4  5  6]\n",
      " [ 7  8  9]\n",
      " [10 11 12]]\n"
     ]
    }
   ],
   "source": [
    "print(arr1)"
   ]
  },
  {
   "cell_type": "code",
   "execution_count": 25,
   "id": "88103fdf-efd8-4c64-b6bd-af1d9c78add2",
   "metadata": {},
   "outputs": [
    {
     "data": {
      "text/plain": [
       "array([[ 8,  9],\n",
       "       [11, 12]])"
      ]
     },
     "execution_count": 25,
     "metadata": {},
     "output_type": "execute_result"
    }
   ],
   "source": [
    "arr1[2:, 1:]"
   ]
  },
  {
   "cell_type": "code",
   "execution_count": 30,
   "id": "d79c51dd-810d-4f00-beb6-0f1bb2c4836b",
   "metadata": {},
   "outputs": [],
   "source": [
    "# (start, stop, step)\n",
    "\n",
    "arr = np.arange(0,10, 2)"
   ]
  },
  {
   "cell_type": "code",
   "execution_count": 29,
   "id": "c20ae058-3651-4cf2-a32c-54fa7d56ab16",
   "metadata": {},
   "outputs": [
    {
     "data": {
      "text/plain": [
       "array([0, 2, 4, 6, 8])"
      ]
     },
     "execution_count": 29,
     "metadata": {},
     "output_type": "execute_result"
    }
   ],
   "source": [
    "arr"
   ]
  },
  {
   "cell_type": "code",
   "execution_count": 32,
   "id": "9de6d48a-4462-4a93-8913-3876c407ace7",
   "metadata": {},
   "outputs": [
    {
     "data": {
      "text/plain": [
       "array([ 1.        ,  1.18367347,  1.36734694,  1.55102041,  1.73469388,\n",
       "        1.91836735,  2.10204082,  2.28571429,  2.46938776,  2.65306122,\n",
       "        2.83673469,  3.02040816,  3.20408163,  3.3877551 ,  3.57142857,\n",
       "        3.75510204,  3.93877551,  4.12244898,  4.30612245,  4.48979592,\n",
       "        4.67346939,  4.85714286,  5.04081633,  5.2244898 ,  5.40816327,\n",
       "        5.59183673,  5.7755102 ,  5.95918367,  6.14285714,  6.32653061,\n",
       "        6.51020408,  6.69387755,  6.87755102,  7.06122449,  7.24489796,\n",
       "        7.42857143,  7.6122449 ,  7.79591837,  7.97959184,  8.16326531,\n",
       "        8.34693878,  8.53061224,  8.71428571,  8.89795918,  9.08163265,\n",
       "        9.26530612,  9.44897959,  9.63265306,  9.81632653, 10.        ])"
      ]
     },
     "execution_count": 32,
     "metadata": {},
     "output_type": "execute_result"
    }
   ],
   "source": [
    "# (start, stop, number of points)\n",
    "\n",
    "np.linspace(1, 10, 50)"
   ]
  },
  {
   "cell_type": "code",
   "execution_count": 33,
   "id": "6c067bc7-40c9-4440-9b7f-3632b3b445df",
   "metadata": {},
   "outputs": [],
   "source": [
    "arr = np.array([1,2,3,4,5,6,7,8,9])"
   ]
  },
  {
   "cell_type": "code",
   "execution_count": 34,
   "id": "033c0a31-8769-4ab5-bfa3-19d5fb5210fe",
   "metadata": {},
   "outputs": [
    {
     "data": {
      "text/plain": [
       "array([  1,   2,   3, 100, 100, 100, 100, 100, 100])"
      ]
     },
     "execution_count": 34,
     "metadata": {},
     "output_type": "execute_result"
    }
   ],
   "source": [
    "## copy() funtion and broadcasting\n",
    "\n",
    "arr[3:] = 100\n",
    "arr"
   ]
  },
  {
   "cell_type": "code",
   "execution_count": 36,
   "id": "cf2f593d-ee20-43e6-babb-2e6da2dd3420",
   "metadata": {},
   "outputs": [],
   "source": [
    "arr1 = arr"
   ]
  },
  {
   "cell_type": "code",
   "execution_count": 37,
   "id": "06e83303-2339-4ff0-be7f-9dc04f18a3a0",
   "metadata": {},
   "outputs": [
    {
     "name": "stdout",
     "output_type": "stream",
     "text": [
      "[  1   2   3 500 500 500 500 500 500]\n"
     ]
    }
   ],
   "source": [
    "arr1[3:] = 500\n",
    "print(arr1)"
   ]
  },
  {
   "cell_type": "code",
   "execution_count": 38,
   "id": "f55d60a3-4e7e-4833-8115-ba2cca89d493",
   "metadata": {},
   "outputs": [
    {
     "name": "stdout",
     "output_type": "stream",
     "text": [
      "[  1   2   3 500 500 500 500 500 500]\n"
     ]
    }
   ],
   "source": [
    "print(arr)"
   ]
  },
  {
   "cell_type": "code",
   "execution_count": 40,
   "id": "59d0c626-2c8f-4e93-a164-b83d426258a8",
   "metadata": {},
   "outputs": [
    {
     "name": "stdout",
     "output_type": "stream",
     "text": [
      "arr1 =  [  1   2   3 500 500 500 500 500 500]\n",
      "arr =  [  1   2   3 500 500 500 500 500 500]\n"
     ]
    }
   ],
   "source": [
    "arr = arr1.copy()\n",
    "\n",
    "print(\"arr1 = \", arr1)\n",
    "print(\"arr = \", arr)"
   ]
  },
  {
   "cell_type": "code",
   "execution_count": 41,
   "id": "324e6a03-0cbe-479b-a5b1-47f3019cd807",
   "metadata": {},
   "outputs": [
    {
     "name": "stdout",
     "output_type": "stream",
     "text": [
      "arr1 =  [   1    2    3 1000 1000 1000 1000 1000 1000]\n",
      "arr =  [  1   2   3 500 500 500 500 500 500]\n"
     ]
    }
   ],
   "source": [
    "arr1[3:] = 1000\n",
    "\n",
    "print(\"arr1 = \", arr1)\n",
    "print(\"arr = \", arr)"
   ]
  },
  {
   "cell_type": "code",
   "execution_count": null,
   "id": "aedde4c0-9a01-4364-9344-d634309b603f",
   "metadata": {},
   "outputs": [],
   "source": []
  },
  {
   "cell_type": "code",
   "execution_count": 42,
   "id": "3c8156e5-a452-4a62-9eff-7dcd5d75b64d",
   "metadata": {},
   "outputs": [],
   "source": [
    "arr = np.array([1,2,3,1,2,5,7,8,6,4,2,1,8])"
   ]
  },
  {
   "cell_type": "code",
   "execution_count": 49,
   "id": "4d08cfdb-0f21-4d8b-a135-e182dbf2b836",
   "metadata": {},
   "outputs": [
    {
     "data": {
      "text/plain": [
       "array([ True, False, False,  True, False, False, False, False, False,\n",
       "       False, False,  True, False])"
      ]
     },
     "execution_count": 49,
     "metadata": {},
     "output_type": "execute_result"
    }
   ],
   "source": [
    "val = 2\n",
    "\n",
    "arr<2"
   ]
  },
  {
   "cell_type": "code",
   "execution_count": 51,
   "id": "9c8f49bc-b4bf-4426-a09c-c96c24102f49",
   "metadata": {},
   "outputs": [
    {
     "data": {
      "text/plain": [
       "array([1, 2, 3, 1, 2, 4, 2, 1])"
      ]
     },
     "execution_count": 51,
     "metadata": {},
     "output_type": "execute_result"
    }
   ],
   "source": [
    "arr[arr<5]"
   ]
  },
  {
   "cell_type": "code",
   "execution_count": null,
   "id": "e413b0fc-dd91-4754-a420-49ed8d63756e",
   "metadata": {},
   "outputs": [],
   "source": []
  },
  {
   "cell_type": "code",
   "execution_count": 61,
   "id": "2933aaf0-67e1-4919-b4bd-e648062d127e",
   "metadata": {},
   "outputs": [
    {
     "name": "stdout",
     "output_type": "stream",
     "text": [
      "arr1 =  [[0 1 2 3 4]\n",
      " [5 6 7 8 9]]\n",
      "\n",
      "arr2 =  [[0 1 2 3 4]\n",
      " [5 6 7 8 9]]\n"
     ]
    }
   ],
   "source": [
    "## Multiplication in array\n",
    "\n",
    "arr1 = np.arange(0, 10).reshape(2, 5)\n",
    "arr2 = np.arange(0, 10).reshape(2, 5)\n",
    "\n",
    "print(\"arr1 = \", arr1)\n",
    "print()\n",
    "print(\"arr2 = \", arr2)"
   ]
  },
  {
   "cell_type": "code",
   "execution_count": 62,
   "id": "781267ea-a5da-40c3-bf56-a36f3054926a",
   "metadata": {},
   "outputs": [
    {
     "data": {
      "text/plain": [
       "array([[ 0,  1,  4,  9, 16],\n",
       "       [25, 36, 49, 64, 81]])"
      ]
     },
     "execution_count": 62,
     "metadata": {},
     "output_type": "execute_result"
    }
   ],
   "source": [
    "arr1*arr2"
   ]
  },
  {
   "cell_type": "code",
   "execution_count": 59,
   "id": "7e2c9ddf-7342-4060-80d6-a73b8464d752",
   "metadata": {},
   "outputs": [
    {
     "name": "stdout",
     "output_type": "stream",
     "text": [
      "A(5x2) * B(2x5) = \n",
      " [[  5   6   7   8   9]\n",
      " [ 15  20  25  30  35]\n",
      " [ 25  34  43  52  61]\n",
      " [ 35  48  61  74  87]\n",
      " [ 45  62  79  96 113]]\n"
     ]
    }
   ],
   "source": [
    "A = np.arange(10).reshape(5, 2)  # 5x2 matrix\n",
    "B = np.arange(10).reshape(2, 5)  # 2x5 matrix\n",
    "\n",
    "# This is valid:\n",
    "result = A @ B  # Shape: (5, 5)\n",
    "print(\"A(5x2) * B(2x5) = \\n\", result)"
   ]
  },
  {
   "cell_type": "code",
   "execution_count": null,
   "id": "ab45e8ef-6859-4563-88b4-8d990a47af08",
   "metadata": {},
   "outputs": [],
   "source": []
  },
  {
   "cell_type": "code",
   "execution_count": 63,
   "id": "2fdb4d34-3363-4ab3-82a3-7f60200d84c7",
   "metadata": {},
   "outputs": [
    {
     "data": {
      "text/plain": [
       "array([1., 1., 1., 1.])"
      ]
     },
     "execution_count": 63,
     "metadata": {},
     "output_type": "execute_result"
    }
   ],
   "source": [
    "np.ones(4)"
   ]
  },
  {
   "cell_type": "code",
   "execution_count": 64,
   "id": "8c9a3ee6-cd3e-4a3d-81f5-d2b4193e5f8e",
   "metadata": {},
   "outputs": [
    {
     "data": {
      "text/plain": [
       "array([[1, 1, 1, 1, 1],\n",
       "       [1, 1, 1, 1, 1]])"
      ]
     },
     "execution_count": 64,
     "metadata": {},
     "output_type": "execute_result"
    }
   ],
   "source": [
    "np.ones((2,5), dtype=int)"
   ]
  },
  {
   "cell_type": "code",
   "execution_count": 65,
   "id": "c9f683c2-edde-4537-b490-561ba0793335",
   "metadata": {},
   "outputs": [
    {
     "data": {
      "text/plain": [
       "array([[0.5010017 , 0.83975523, 0.76760737],\n",
       "       [0.09536435, 0.30033767, 0.17505101],\n",
       "       [0.90710398, 0.09615437, 0.74758437]])"
      ]
     },
     "execution_count": 65,
     "metadata": {},
     "output_type": "execute_result"
    }
   ],
   "source": [
    "## random distribution\n",
    "\n",
    "np.random.rand(3,3)"
   ]
  },
  {
   "cell_type": "code",
   "execution_count": 77,
   "id": "f1bb68d6-e124-48aa-baf2-4c6744132ffc",
   "metadata": {},
   "outputs": [],
   "source": [
    "arr_ex = np.random.randn(4,4)"
   ]
  },
  {
   "cell_type": "code",
   "execution_count": 78,
   "id": "c40558fd-4800-4da1-842c-158d5c68364d",
   "metadata": {},
   "outputs": [
    {
     "data": {
      "text/plain": [
       "array([[ 0.71787572,  0.3490635 , -0.03991155, -0.02736182],\n",
       "       [-0.34105637, -0.6553119 , -1.31531106, -0.40962691],\n",
       "       [-0.27623415, -0.01929857,  0.62454743, -0.23638349],\n",
       "       [-1.2152366 ,  0.22454134, -1.20974551,  0.1841522 ]])"
      ]
     },
     "execution_count": 78,
     "metadata": {},
     "output_type": "execute_result"
    }
   ],
   "source": [
    "arr_ex"
   ]
  },
  {
   "cell_type": "code",
   "execution_count": null,
   "id": "b95d71af-c750-4170-8fd2-88a7ca8eead3",
   "metadata": {},
   "outputs": [],
   "source": []
  },
  {
   "cell_type": "code",
   "execution_count": 79,
   "id": "16d29801-1419-4125-aaae-b8c54e7015a9",
   "metadata": {},
   "outputs": [],
   "source": [
    "import seaborn as sns\n",
    "import pandas as pd"
   ]
  },
  {
   "cell_type": "code",
   "execution_count": 80,
   "id": "ab94e16a-4703-4608-bb36-6afdeb09bb4d",
   "metadata": {},
   "outputs": [
    {
     "name": "stderr",
     "output_type": "stream",
     "text": [
      "C:\\Users\\samee\\AppData\\Local\\Temp\\ipykernel_36660\\1832295236.py:1: UserWarning: \n",
      "\n",
      "`distplot` is a deprecated function and will be removed in seaborn v0.14.0.\n",
      "\n",
      "Please adapt your code to use either `displot` (a figure-level function with\n",
      "similar flexibility) or `histplot` (an axes-level function for histograms).\n",
      "\n",
      "For a guide to updating your code to use the new functions, please see\n",
      "https://gist.github.com/mwaskom/de44147ed2974457ad6372750bbe5751\n",
      "\n",
      "  sns.distplot(pd.DataFrame(arr_ex.reshape(16,1)))\n",
      "E:\\Anaconda\\Lib\\site-packages\\seaborn\\_oldcore.py:1119: FutureWarning: use_inf_as_na option is deprecated and will be removed in a future version. Convert inf values to NaN before operating instead.\n",
      "  with pd.option_context('mode.use_inf_as_na', True):\n"
     ]
    },
    {
     "data": {
      "text/plain": [
       "<Axes: ylabel='Density'>"
      ]
     },
     "execution_count": 80,
     "metadata": {},
     "output_type": "execute_result"
    },
    {
     "data": {
      "image/png": "[encoded data removed]",
      "text/plain": [
       "<Figure size 640x480 with 1 Axes>"
      ]
     },
     "metadata": {},
     "output_type": "display_data"
    }
   ],
   "source": [
    "sns.distplot(pd.DataFrame(arr_ex.reshape(16,1)))"
   ]
  },
  {
   "cell_type": "code",
   "execution_count": null,
   "id": "eba298d9-e0be-4dc5-8187-ae57748f4d9c",
   "metadata": {},
   "outputs": [],
   "source": []
  },
  {
   "cell_type": "code",
   "execution_count": 83,
   "id": "61fae86c-d5b4-4e12-84ae-d37eb267f1c2",
   "metadata": {},
   "outputs": [
    {
     "data": {
      "text/plain": [
       "array([[53, 45],\n",
       "       [89, 26],\n",
       "       [22,  2],\n",
       "       [39, 48]])"
      ]
     },
     "execution_count": 83,
     "metadata": {},
     "output_type": "execute_result"
    }
   ],
   "source": [
    "# (start, stop, number of elements)\n",
    "\n",
    "np.random.randint(0,100,8).reshape(4, 2)"
   ]
  },
  {
   "cell_type": "code",
   "execution_count": 85,
   "id": "0594e4ae-dec0-4045-ad4e-30f319906fe3",
   "metadata": {},
   "outputs": [
    {
     "data": {
      "text/plain": [
       "array([[0.39580643, 0.59034006, 0.68752365, 0.24668842, 0.13703868]])"
      ]
     },
     "execution_count": 85,
     "metadata": {},
     "output_type": "execute_result"
    }
   ],
   "source": [
    "np.random.random_sample((1,5))"
   ]
  }
 ],
 "metadata": {
  "kernelspec": {
   "display_name": "Python 3 (ipykernel)",
   "language": "python",
   "name": "python3"
  },
  "language_info": {
   "codemirror_mode": {
    "name": "ipython",
    "version": 3
   },
   "file_extension": ".py",
   "mimetype": "text/x-python",
   "name": "python",
   "nbconvert_exporter": "python",
   "pygments_lexer": "ipython3",
   "version": "3.11.7"
  }
 },
 "nbformat": 4,
 "nbformat_minor": 5
}
